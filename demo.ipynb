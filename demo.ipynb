{
 "metadata": {
  "language_info": {
   "codemirror_mode": {
    "name": "ipython",
    "version": 3
   },
   "file_extension": ".py",
   "mimetype": "text/x-python",
   "name": "python",
   "nbconvert_exporter": "python",
   "pygments_lexer": "ipython3",
   "version": "3.9.2"
  },
  "orig_nbformat": 2,
  "kernelspec": {
   "name": "python392jvsc74a57bd00c2957c63632f759fc0cf13e071f3ad17ebc9d4e3ef4ac1c8eb2a54d071c755d",
   "display_name": "Python 3.9.2 64-bit ('reprodl': conda)"
  }
 },
 "nbformat": 4,
 "nbformat_minor": 2,
 "cells": [
  {
   "source": [
    "## Part 1: manipulating YAML files with OmegaConf\n",
    "\n",
    "See the full documentation here: [https://omegaconf.readthedocs.io/en/latest/usage.html#access-and-manipulation](https://omegaconf.readthedocs.io/en/latest/usage.html#access-and-manipulation)"
   ],
   "cell_type": "markdown",
   "metadata": {}
  },
  {
   "cell_type": "code",
   "execution_count": 1,
   "metadata": {},
   "outputs": [],
   "source": [
    "from omegaconf import OmegaConf"
   ]
  },
  {
   "cell_type": "code",
   "execution_count": 2,
   "metadata": {},
   "outputs": [],
   "source": [
    "conf = OmegaConf.load('configs/config.yaml')"
   ]
  },
  {
   "cell_type": "code",
   "execution_count": 3,
   "metadata": {},
   "outputs": [
    {
     "output_type": "stream",
     "name": "stdout",
     "text": [
      "<class 'omegaconf.dictconfig.DictConfig'>\n"
     ]
    }
   ],
   "source": [
    "print(type(conf))"
   ]
  },
  {
   "cell_type": "code",
   "execution_count": 4,
   "metadata": {},
   "outputs": [
    {
     "output_type": "stream",
     "name": "stdout",
     "text": [
      "3\n10\n"
     ]
    }
   ],
   "source": [
    "# Accessing values\n",
    "print(conf.dataset.image.channels)\n",
    "print(conf['dataset']['classes'])"
   ]
  },
  {
   "cell_type": "code",
   "execution_count": 5,
   "metadata": {},
   "outputs": [],
   "source": [
    "# Modifying a value\n",
    "conf.dataset.classes = 15"
   ]
  },
  {
   "source": [
    "## Part 2: Using Hydra"
   ],
   "cell_type": "markdown",
   "metadata": {}
  },
  {
   "cell_type": "code",
   "execution_count": 6,
   "metadata": {},
   "outputs": [
    {
     "output_type": "stream",
     "name": "stdout",
     "text": [
      "dataset:\n  image:\n    size: 124\n    channels: 3\n  classes: 10\nfeature_extractor:\n  _target_: torchvision.models.alexnet\n  pretrained: true\nclassifier:\n  dense1:\n    _target_: torch.nn.Linear\n    in_features: 9216\n    out_features: 100\n  dense2:\n    _target_: torch.nn.Linear\n    in_features: 100\n    out_features: 10\n\n[2021-05-24 09:33:30,309][__main__][INFO] - Working dir: d:\\Codice\\git-repositories\\hydra-tutorial\\outputs\\2021-05-24\\09-33-30\n"
     ]
    }
   ],
   "source": [
    "%run -i main.py"
   ]
  },
  {
   "cell_type": "code",
   "execution_count": 7,
   "metadata": {},
   "outputs": [
    {
     "output_type": "stream",
     "name": "stdout",
     "text": [
      "dataset:\n  image:\n    size: 124\n    channels: 3\n  classes: 15\nfeature_extractor:\n  _target_: torchvision.models.alexnet\n  pretrained: true\nclassifier:\n  dense1:\n    _target_: torch.nn.Linear\n    in_features: 9216\n    out_features: 100\n  dense2:\n    _target_: torch.nn.Linear\n    in_features: 100\n    out_features: 15\n\n[2021-05-24 09:33:32,405][__main__][INFO] - Working dir: d:\\Codice\\git-repositories\\hydra-tutorial\\outputs\\2021-05-24\\09-33-32\n"
     ]
    }
   ],
   "source": [
    "# Modify a flag\n",
    "%run -i main.py dataset.classes=15"
   ]
  },
  {
   "cell_type": "code",
   "execution_count": 8,
   "metadata": {},
   "outputs": [
    {
     "output_type": "stream",
     "name": "stdout",
     "text": [
      "dataset:\n  image:\n    size: 124\n    channels: 3\n  classes: 10\nfeature_extractor:\n  _target_: torchvision.models.alexnet\n  pretrained: true\nclassifier:\n  dense1:\n    _target_: torch.nn.Linear\n    in_features: 9216\n    out_features: 100\n  dense2:\n    _target_: torch.nn.Linear\n    in_features: 100\n    out_features: 10\ncustom_param: true\n\n[2021-05-24 09:33:32,702][__main__][INFO] - Working dir: d:\\Codice\\git-repositories\\hydra-tutorial\\outputs\\2021-05-24\\09-33-32\n"
     ]
    }
   ],
   "source": [
    "# Add a flag\n",
    "%run -i main.py +custom_param=True"
   ]
  },
  {
   "cell_type": "code",
   "execution_count": 9,
   "metadata": {},
   "outputs": [
    {
     "output_type": "stream",
     "name": "stdout",
     "text": [
      "dataset:\n  image:\n    size: 124\n    channels: 3\n  classes: 10\nfeature_extractor:\n  _target_: torchvision.models.alexnet\n  pretrained: true\nclassifier:\n  dense1:\n    _target_: torch.nn.Linear\n    in_features: 9216\n    out_features: 100\n  dense2:\n    _target_: torch.nn.Linear\n    in_features: 100\n    out_features: 10\n\n[2021-05-24 09:33:34,063][__main__][INFO] - Working dir: d:\\Codice\\git-repositories\\hydra-tutorial\\outputs\\custom_folder\n"
     ]
    }
   ],
   "source": [
    "# Change the working directory\n",
    "%run -i main.py hydra.run.dir='outputs/custom_folder'"
   ]
  },
  {
   "source": [
    "## Part 3: Instantiating a configuration file manually"
   ],
   "cell_type": "markdown",
   "metadata": {}
  },
  {
   "cell_type": "code",
   "execution_count": 10,
   "metadata": {},
   "outputs": [],
   "source": [
    "from hydra import initialize, compose"
   ]
  },
  {
   "cell_type": "code",
   "execution_count": 11,
   "metadata": {},
   "outputs": [
    {
     "output_type": "execute_result",
     "data": {
      "text/plain": [
       "hydra.initialize()"
      ]
     },
     "metadata": {},
     "execution_count": 11
    }
   ],
   "source": [
    "# Initialize Hydra\n",
    "initialize('configs')"
   ]
  },
  {
   "cell_type": "code",
   "execution_count": 12,
   "metadata": {},
   "outputs": [],
   "source": [
    "cfg = compose(config_name='config')"
   ]
  },
  {
   "source": [
    "## Part 4: Instantiating an object"
   ],
   "cell_type": "markdown",
   "metadata": {}
  },
  {
   "cell_type": "code",
   "execution_count": 13,
   "metadata": {},
   "outputs": [],
   "source": [
    "import torch\n",
    "from collections import OrderedDict\n",
    "from hydra.utils import instantiate"
   ]
  },
  {
   "cell_type": "code",
   "execution_count": 14,
   "metadata": {},
   "outputs": [],
   "source": [
    "net = instantiate(cfg.feature_extractor)"
   ]
  },
  {
   "cell_type": "code",
   "execution_count": 15,
   "metadata": {},
   "outputs": [
    {
     "output_type": "stream",
     "name": "stdout",
     "text": [
      "{'dense1': Linear(in_features=9216, out_features=100, bias=True), 'dense2': Linear(in_features=100, out_features=10, bias=True)}\n"
     ]
    }
   ],
   "source": [
    "print(instantiate(cfg.classifier))"
   ]
  },
  {
   "cell_type": "code",
   "execution_count": 16,
   "metadata": {},
   "outputs": [
    {
     "output_type": "stream",
     "name": "stdout",
     "text": [
      "dense1:\n  _target_: torch.nn.Linear\n  in_features: 9216\n  out_features: 100\ndense2:\n  _target_: torch.nn.Linear\n  in_features: 100\n  out_features: 10\n\n"
     ]
    }
   ],
   "source": [
    "# Printing the configuration with resolution\n",
    "print(OmegaConf.to_yaml(cfg.classifier, resolve=True))"
   ]
  },
  {
   "cell_type": "code",
   "execution_count": null,
   "metadata": {},
   "outputs": [],
   "source": [
    "classifier = torch.nn.Sequential(\n",
    "    OrderedDict(instantiate(cfg.classifier)\n",
    ")"
   ]
  },
  {
   "cell_type": "code",
   "execution_count": null,
   "metadata": {},
   "outputs": [],
   "source": [
    "net.classifier = classifier"
   ]
  },
  {
   "cell_type": "code",
   "execution_count": null,
   "metadata": {},
   "outputs": [],
   "source": [
    "# Test it works\n",
    "xb = torch.randn((8, cfg.dataset.image.channels, cfg.dataset.image.size, cfg.dataset.image.size))\n",
    "print(net(xb).shape)"
   ]
  },
  {
   "cell_type": "code",
   "execution_count": null,
   "metadata": {},
   "outputs": [],
   "source": [
    "# Instantiate the large model\n",
    "cfg = compose(config_name='config', overrides=['classifier=large'])"
   ]
  },
  {
   "source": [
    "## Part 5: An example of multiple run"
   ],
   "cell_type": "markdown",
   "metadata": {}
  },
  {
   "cell_type": "code",
   "execution_count": null,
   "metadata": {},
   "outputs": [],
   "source": [
    "# We need to reset HydraGlobal because we called initialize before\n",
    "hydra.core.global_hydra.GlobalHydra.instance().clear()"
   ]
  },
  {
   "cell_type": "code",
   "execution_count": null,
   "metadata": {},
   "outputs": [],
   "source": [
    "%run -i main.py -m classifier=small,large"
   ]
  },
  {
   "source": [
    "## Part 6: Validating the configuration"
   ],
   "cell_type": "markdown",
   "metadata": {}
  },
  {
   "cell_type": "code",
   "execution_count": null,
   "metadata": {},
   "outputs": [],
   "source": [
    "# Try overriding a parameter with an invalid type\n",
    "%run -i main.py dataset.classes=0.5"
   ]
  }
 ]
}