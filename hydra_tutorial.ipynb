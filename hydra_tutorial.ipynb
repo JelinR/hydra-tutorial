{
 "cells": [
  {
   "cell_type": "markdown",
   "metadata": {},
   "source": [
    "### Import Libraries and Define Funcs"
   ]
  },
  {
   "cell_type": "code",
   "execution_count": 1,
   "metadata": {},
   "outputs": [],
   "source": [
    "from omegaconf import OmegaConf, DictConfig\n",
    "import hydra\n",
    "\n",
    "from dataclasses import dataclass\n",
    "from typing import Any"
   ]
  },
  {
   "cell_type": "code",
   "execution_count": 2,
   "metadata": {},
   "outputs": [],
   "source": [
    "print_yaml = lambda cfg: print(OmegaConf.to_yaml(cfg))"
   ]
  },
  {
   "cell_type": "markdown",
   "metadata": {},
   "source": [
    "----------"
   ]
  },
  {
   "cell_type": "code",
   "execution_count": 4,
   "metadata": {},
   "outputs": [
    {
     "name": "stdout",
     "output_type": "stream",
     "text": [
      "dataset:\n",
      "  image:\n",
      "    size: 124\n",
      "    channels: 3\n",
      "  classes: 10\n",
      "feature_extractor:\n",
      "  _target_: torchvision.models.alexnet\n",
      "  pretrained: true\n",
      "defaults:\n",
      "- config_schema\n",
      "- classifier: small\n",
      "\n"
     ]
    }
   ],
   "source": [
    "config = OmegaConf.load('configs/config.yaml')\n",
    "print_yaml(config)"
   ]
  },
  {
   "cell_type": "markdown",
   "metadata": {},
   "source": [
    "### Hydra Basics"
   ]
  },
  {
   "cell_type": "markdown",
   "metadata": {},
   "source": [
    "#### Defining Configurations"
   ]
  },
  {
   "cell_type": "markdown",
   "metadata": {},
   "source": [
    "- __Config Outlines__: We can create a defaults.py file to define classes and their attributes in a hierarchical manner. These class structures can then be saved in the hydra ConfigStore in a global manner, such that these can be called else where too.\n",
    "\n",
    "\n",
    "- __Config Values__: The values for these attributes are set in the configs directory under yaml files."
   ]
  },
  {
   "cell_type": "code",
   "execution_count": 4,
   "metadata": {},
   "outputs": [],
   "source": [
    "@dataclass\n",
    "class ImageConfig:\n",
    "    size: int\n",
    "    channels: int\n",
    "\n",
    "@dataclass\n",
    "class DatasetConfig:\n",
    "    image: ImageConfig\n",
    "    classes: int\n",
    "\n",
    "@dataclass\n",
    "class MainConfig:\n",
    "    dataset : DatasetConfig\n",
    "    feature_extractor: Any\n",
    "    classifier: Any\n",
    "\n",
    "\n",
    "cs = hydra.core.config_store.ConfigStore()\n",
    "cs.store(name = \"config_schema\", node = MainConfig)"
   ]
  },
  {
   "cell_type": "code",
   "execution_count": 5,
   "metadata": {},
   "outputs": [
    {
     "name": "stdout",
     "output_type": "stream",
     "text": [
      "- hydra: {'config.yaml': ConfigNode(name='config.yaml', node={'defaults': [{'output': 'default'}, {'launcher': 'basic'}, {'sweeper': 'basic'}, {'help': 'default'}, {'hydra_help': 'default'}, {'hydra_logging': 'default'}, {'job_logging': 'default'}, {'callbacks': None}, {'env': 'default'}], 'mode': None, 'searchpath': [], 'run': {'dir': '???'}, 'sweep': {'dir': '???', 'subdir': '???'}, 'hydra_logging': '???', 'job_logging': '???', 'sweeper': '???', 'launcher': '???', 'callbacks': {}, 'help': {'app_name': '???', 'header': '???', 'footer': '???', 'template': '???'}, 'hydra_help': {'hydra_help': '???', 'template': '???'}, 'output_subdir': '.hydra', 'overrides': {'hydra': [], 'task': []}, 'job': {'name': '???', 'chdir': None, 'override_dirname': '???', 'id': '???', 'num': '???', 'config_name': '???', 'env_set': {}, 'env_copy': [], 'config': {'override_dirname': {'kv_sep': '=', 'item_sep': ',', 'exclude_keys': []}}}, 'runtime': {'version': '???', 'version_base': '???', 'cwd': '???', 'config_sources': '???', 'output_dir': '???', 'choices': {}}, 'verbose': False}, group='hydra', package=None, provider='hydra')}\n",
      "- _dummy_empty_config_.yaml: ConfigNode(name='_dummy_empty_config_.yaml', node={}, group=None, package=None, provider='hydra')\n",
      "- config_schema.yaml: ConfigNode(name='config_schema.yaml', node={'dataset': '???', 'feature_extractor': '???', 'classifier': '???'}, group=None, package=None, provider=None)\n"
     ]
    }
   ],
   "source": [
    "for name, node in cs.repo.items():\n",
    "    print(f'- {name}: {node}')"
   ]
  },
  {
   "cell_type": "markdown",
   "metadata": {},
   "source": [
    "#### Loading Configurations"
   ]
  },
  {
   "cell_type": "markdown",
   "metadata": {},
   "source": [
    "##### Using Hydra Main"
   ]
  },
  {
   "cell_type": "markdown",
   "metadata": {},
   "source": [
    "This is used for standalone python scripts, especially if you want automatic working directory management and CLI overrides. This DOES NOT work in Jupyter Notebooks.\n",
    "\n",
    "Calling it on top of a function, the following steps occur:\n",
    "- Changes to working directory to the current one\n",
    "- Automatically initiallizes Hydra with the config_path\n",
    "- Loads the config_name yaml file from the config_path\n",
    "- Applies CLI overrides "
   ]
  },
  {
   "cell_type": "code",
   "execution_count": 7,
   "metadata": {},
   "outputs": [],
   "source": [
    "@hydra.main(version_base=None, config_path='configs', config_name='config')\n",
    "def main(cfg: DictConfig):\n",
    "    print_yaml(cfg)\n",
    "\n",
    "    return cfg\n",
    "\n",
    "if __name__ == \"main\":\n",
    "    main()"
   ]
  },
  {
   "cell_type": "markdown",
   "metadata": {},
   "source": [
    "##### Using Hydra Initialize and Compose"
   ]
  },
  {
   "cell_type": "markdown",
   "metadata": {},
   "source": [
    "These are used we want to manually control Hydra's initialization and composition.  Also, this is used when Hydra needs to be initalized dynamically (eg. in multi-threading) or if we need multiple config compositions.\n",
    "\n",
    "- __initialize__ : Sets up the Hydra's configuration system. Now, Hydra knows where to look for the configurations (the directory). No configurations are loaded yet.\n",
    "\n",
    "- __compose__ : Loads a specific configuration after Hydra is initialized. Stores a config object (DictConfig) in the ConfigStore and returns the config."
   ]
  },
  {
   "cell_type": "code",
   "execution_count": 8,
   "metadata": {},
   "outputs": [
    {
     "data": {
      "text/plain": [
       "hydra.initialize()"
      ]
     },
     "execution_count": 8,
     "metadata": {},
     "output_type": "execute_result"
    }
   ],
   "source": [
    "from hydra import initialize, compose\n",
    "\n",
    "# config_path corresponds to the configuration directory where \n",
    "# all configs are stored\n",
    "initialize(version_base = None, config_path = 'configs')"
   ]
  },
  {
   "cell_type": "code",
   "execution_count": 9,
   "metadata": {},
   "outputs": [
    {
     "name": "stderr",
     "output_type": "stream",
     "text": [
      "c:\\Users\\Admin\\anaconda3\\envs\\hydra_burner\\Lib\\site-packages\\hydra\\_internal\\defaults_list.py:251: UserWarning: In 'config': Defaults list is missing `_self_`. See https://hydra.cc/docs/1.2/upgrades/1.0_to_1.1/default_composition_order for more information\n",
      "  warnings.warn(msg, UserWarning)\n"
     ]
    }
   ],
   "source": [
    "# config_name is the yaml file in the config_path directory\n",
    "cfg = compose(config_name = 'config')"
   ]
  },
  {
   "cell_type": "code",
   "execution_count": 12,
   "metadata": {},
   "outputs": [
    {
     "name": "stdout",
     "output_type": "stream",
     "text": [
      "dataset:\n",
      "  image:\n",
      "    size: 124\n",
      "    channels: 3\n",
      "  classes: 10\n",
      "feature_extractor:\n",
      "  _target_: torchvision.models.alexnet\n",
      "  pretrained: true\n",
      "classifier:\n",
      "  dense1:\n",
      "    _target_: torch.nn.Linear\n",
      "    in_features: 9216\n",
      "    out_features: 100\n",
      "  dense2:\n",
      "    _target_: torch.nn.Linear\n",
      "    in_features: ${classifier.dense1.out_features}\n",
      "    out_features: ${dataset.classes}\n",
      "\n"
     ]
    }
   ],
   "source": [
    "print_yaml(cfg)"
   ]
  },
  {
   "cell_type": "markdown",
   "metadata": {},
   "source": [
    "--------"
   ]
  },
  {
   "cell_type": "markdown",
   "metadata": {},
   "source": [
    "### Plugins"
   ]
  },
  {
   "cell_type": "markdown",
   "metadata": {},
   "source": [
    "Hydra plugins are extendable components that allow Hydra to support new functionality beyond its core features. They are used to customize, extend, or replace Hydra's built-in behavior in a modular way.\n",
    "\n",
    "Hydra has a plugin system where different types of plugins handle specific tasks, such as:\n",
    "\n",
    "- Search Path Plugins → Modify where Hydra looks for configs.\n",
    "- Launcher Plugins → Control how jobs are launched (e.g., SLURM, AWS).\n",
    "- Sweeper Plugins → Manage hyperparameter tuning (e.g., Optuna, Ax).\n",
    "- Logging Plugins → Customize logging.\n",
    "- Output Directory Plugins → Modify how Hydra manages working directories."
   ]
  },
  {
   "cell_type": "markdown",
   "metadata": {},
   "source": [
    "#### SearchPathPlugin"
   ]
  },
  {
   "cell_type": "code",
   "execution_count": 3,
   "metadata": {},
   "outputs": [],
   "source": [
    "from hydra.core.plugins import Plugins\n",
    "from hydra.plugins.search_path_plugin import SearchPathPlugin\n",
    "from hydra.core.config_search_path import ConfigSearchPath"
   ]
  },
  {
   "cell_type": "code",
   "execution_count": 4,
   "metadata": {},
   "outputs": [],
   "source": [
    "class DebugConfigPlugin(SearchPathPlugin):\n",
    "    def manipulate_search_path(self, search_path: ConfigSearchPath) -> None:\n",
    "\n",
    "        print(f'Search Paths Before:')\n",
    "        for path in search_path.get_path():\n",
    "            print(' ', path)\n",
    "\n",
    "        search_path.append(\n",
    "            provider=\"hydra_path_extension\",\n",
    "            path=\"file://hydra-tutorial/config/\",\n",
    "        )\n",
    "\n",
    "        print(f'\\nSearch Paths After:')\n",
    "        for path in search_path.get_path():\n",
    "            print(' ', path)"
   ]
  },
  {
   "cell_type": "code",
   "execution_count": 5,
   "metadata": {},
   "outputs": [],
   "source": [
    "Plugins.instance().register(DebugConfigPlugin)"
   ]
  },
  {
   "cell_type": "markdown",
   "metadata": {},
   "source": [
    "-------"
   ]
  },
  {
   "cell_type": "code",
   "execution_count": 6,
   "metadata": {},
   "outputs": [
    {
     "name": "stdout",
     "output_type": "stream",
     "text": [
      "Search Paths Before:\n",
      "  provider=hydra, path=pkg://hydra.conf\n",
      "  provider=main, path=C:\\Users\\Admin\\Documents\\GitHub\\hydra-tutorial\\configs\n",
      "\n",
      "Search Paths After:\n",
      "  provider=hydra, path=pkg://hydra.conf\n",
      "  provider=main, path=C:\\Users\\Admin\\Documents\\GitHub\\hydra-tutorial\\configs\n",
      "  provider=hydra_path_extension, path=file://hydra-tutorial/config/\n"
     ]
    },
    {
     "data": {
      "text/plain": [
       "hydra.initialize()"
      ]
     },
     "execution_count": 6,
     "metadata": {},
     "output_type": "execute_result"
    }
   ],
   "source": [
    "from hydra import initialize, compose\n",
    "\n",
    "# config_path corresponds to the configuration directory where \n",
    "# all configs are stored\n",
    "initialize(version_base = None, config_path = 'configs')"
   ]
  },
  {
   "cell_type": "code",
   "execution_count": 16,
   "metadata": {},
   "outputs": [],
   "source": [
    "hydra.core.global_hydra.GlobalHydra.instance().clear()"
   ]
  }
 ],
 "metadata": {
  "kernelspec": {
   "display_name": "hydra_burner",
   "language": "python",
   "name": "python3"
  },
  "language_info": {
   "codemirror_mode": {
    "name": "ipython",
    "version": 3
   },
   "file_extension": ".py",
   "mimetype": "text/x-python",
   "name": "python",
   "nbconvert_exporter": "python",
   "pygments_lexer": "ipython3",
   "version": "3.13.1"
  }
 },
 "nbformat": 4,
 "nbformat_minor": 2
}
